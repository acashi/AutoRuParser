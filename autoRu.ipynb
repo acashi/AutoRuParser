{
 "cells": [
  {
   "cell_type": "markdown",
   "id": "76aba1ab",
   "metadata": {},
   "source": [
    "## Решил попрактиковаться в сборе и обработке данных"
   ]
  },
  {
   "cell_type": "markdown",
   "id": "6063eec4",
   "metadata": {},
   "source": [
    "#### Сегодня спарсим auto.ru и пихнем это в DataFrame для дальнейшей обработки"
   ]
  },
  {
   "cell_type": "markdown",
   "id": "3b34ff3f",
   "metadata": {},
   "source": [
    "#### Я решил парсить только плюс-минус конкретные данные: \n",
    "#### ВАЗ до 100к рублей"
   ]
  },
  {
   "cell_type": "code",
   "execution_count": 267,
   "id": "70180270",
   "metadata": {},
   "outputs": [],
   "source": [
    "import requests\n",
    "from bs4 import BeautifulSoup\n",
    "import pandas as pd\n",
    "import seaborn as sns\n",
    "import numpy as np\n",
    "import unidecode"
   ]
  },
  {
   "cell_type": "markdown",
   "id": "540bfd8a",
   "metadata": {},
   "source": [
    "#### По данным фильтрам выдало 32 страницы, поэтому делаем цикл на 32 элемента, парсим данные и записываем нужные в список"
   ]
  },
  {
   "cell_type": "code",
   "execution_count": 441,
   "id": "a75aa790",
   "metadata": {},
   "outputs": [],
   "source": [
    "model_list = []\n",
    "price_list = []\n",
    "year_list = []\n",
    "km_list = []\n",
    "link_list = []\n",
    "for i in range (1,32):\n",
    "    resp = requests.get('https://auto.ru/moskovskaya_oblast/cars/vaz/all/do-100000/?page='+str(i))\n",
    "    resp.encoding = 'utf-8'\n",
    "    bs = BeautifulSoup(resp.text)\n",
    "    for j in bs.find_all(class_='ListingItem__main'):\n",
    "        for i in j.find_all(class_ = 'Link ListingItemTitle__link'):\n",
    "            model_list.append(unidecode.unidecode(i.text))\n",
    "        for i in j.find_all(class_ = 'ListingItem__priceBlock'):\n",
    "            price_list.append(unidecode.unidecode(i.text.replace('₽','')).replace(' ',''))\n",
    "        for i in j.find_all(class_ = 'ListingItem__yearBlock'):\n",
    "            year_list.append(unidecode.unidecode(i.text))\n",
    "        for i in j.find_all(class_ = 'ListingItem__kmAgeAndActionsBlock'):\n",
    "            km_list.append(unidecode.unidecode(i.text.replace('км','')).replace(' ',''))\n",
    "        for i in j.find_all(class_ = 'ListingItem__kmAgeAndActionsBlock'):\n",
    "            km_list.append(unidecode.unidecode(i.text.replace('км','')).replace(' ',''))\n",
    "        for i in j.find_all(class_='ListingItemTechSummaryDesktop__column'):\n",
    "            link_list.append(unidecode.unidecode(i.text))"
   ]
  },
  {
   "cell_type": "markdown",
   "id": "10271093",
   "metadata": {},
   "source": [
    "### Один технические хар-ти лежат не в самом удобном формате, поэтому прийдется потратить немного времени что бы обработать их"
   ]
  },
  {
   "cell_type": "code",
   "execution_count": 487,
   "id": "e944d60e",
   "metadata": {},
   "outputs": [],
   "source": [
    "litr = []\n",
    "dop = []\n",
    "for i in tech_list:\n",
    "    if len(i) > 20:\n",
    "        litr.append(i.split('/'))\n",
    "    else:\n",
    "        dop.append(i)"
   ]
  },
  {
   "cell_type": "markdown",
   "id": "7ff06f7b",
   "metadata": {},
   "source": [
    "### Я не придумал, как достать адекватно достать данные формата 'механикажелтый', поэтому забил на них"
   ]
  },
  {
   "cell_type": "code",
   "execution_count": 505,
   "id": "fbd30eda",
   "metadata": {},
   "outputs": [],
   "source": [
    "litr_list = []\n",
    "ls_list = []\n",
    "for i in litr:\n",
    "    litr_list.append(i[0].replace('l','').strip())\n",
    "    ls_list.append(i[1].replace('l.s.','').strip())\n",
    "    "
   ]
  },
  {
   "cell_type": "markdown",
   "id": "53fef1ae",
   "metadata": {},
   "source": [
    "### На данном этапе я заметил артефакты"
   ]
  },
  {
   "cell_type": "markdown",
   "id": "4e384873",
   "metadata": {},
   "source": [
    "#### Это кривые ссылки"
   ]
  },
  {
   "cell_type": "markdown",
   "id": "cd056564",
   "metadata": {},
   "source": [
    "#### Причем ссылки на фотки рабочие и такие фотки действительно есть на сайте. "
   ]
  },
  {
   "cell_type": "markdown",
   "id": "8e3621f4",
   "metadata": {},
   "source": [
    "#### Но зачастую цены не соответсвуют"
   ]
  },
  {
   "cell_type": "markdown",
   "id": "7753e2d0",
   "metadata": {},
   "source": [
    "### Создаю ДатаФрейм и кладу полученные значения в него"
   ]
  },
  {
   "cell_type": "code",
   "execution_count": 507,
   "id": "30cbd6e8",
   "metadata": {},
   "outputs": [],
   "source": [
    "columns = ['model', 'year', 'km', 'litr', 'hp', 'price']"
   ]
  },
  {
   "cell_type": "code",
   "execution_count": 593,
   "id": "0218747e",
   "metadata": {},
   "outputs": [],
   "source": [
    "df = pd.DataFrame(columns=columns)"
   ]
  },
  {
   "cell_type": "code",
   "execution_count": 594,
   "id": "d0b00b31",
   "metadata": {},
   "outputs": [
    {
     "data": {
      "text/html": [
       "<div>\n",
       "<style scoped>\n",
       "    .dataframe tbody tr th:only-of-type {\n",
       "        vertical-align: middle;\n",
       "    }\n",
       "\n",
       "    .dataframe tbody tr th {\n",
       "        vertical-align: top;\n",
       "    }\n",
       "\n",
       "    .dataframe thead th {\n",
       "        text-align: right;\n",
       "    }\n",
       "</style>\n",
       "<table border=\"1\" class=\"dataframe\">\n",
       "  <thead>\n",
       "    <tr style=\"text-align: right;\">\n",
       "      <th></th>\n",
       "      <th>model</th>\n",
       "      <th>year</th>\n",
       "      <th>km</th>\n",
       "      <th>litr</th>\n",
       "      <th>hp</th>\n",
       "      <th>price</th>\n",
       "    </tr>\n",
       "  </thead>\n",
       "  <tbody>\n",
       "  </tbody>\n",
       "</table>\n",
       "</div>"
      ],
      "text/plain": [
       "Empty DataFrame\n",
       "Columns: [model, year, km, litr, hp, price]\n",
       "Index: []"
      ]
     },
     "execution_count": 594,
     "metadata": {},
     "output_type": "execute_result"
    }
   ],
   "source": [
    "df"
   ]
  },
  {
   "cell_type": "code",
   "execution_count": 595,
   "id": "d5fd81f2",
   "metadata": {},
   "outputs": [],
   "source": [
    "df.model = model_list"
   ]
  },
  {
   "cell_type": "code",
   "execution_count": 596,
   "id": "79c607fc",
   "metadata": {},
   "outputs": [],
   "source": [
    "df.year = year_list"
   ]
  },
  {
   "cell_type": "code",
   "execution_count": 597,
   "id": "8aebf8b0",
   "metadata": {},
   "outputs": [],
   "source": [
    "df.km = km_list[:1146]"
   ]
  },
  {
   "cell_type": "code",
   "execution_count": 598,
   "id": "be851bef",
   "metadata": {},
   "outputs": [],
   "source": [
    "df.price = price_list"
   ]
  },
  {
   "cell_type": "code",
   "execution_count": 599,
   "id": "e82a982e",
   "metadata": {},
   "outputs": [],
   "source": [
    "df.hp = ls_list"
   ]
  },
  {
   "cell_type": "code",
   "execution_count": 600,
   "id": "d0400846",
   "metadata": {},
   "outputs": [],
   "source": [
    "df.litr = litr_list"
   ]
  },
  {
   "cell_type": "code",
   "execution_count": 601,
   "id": "6202c43c",
   "metadata": {
    "scrolled": true
   },
   "outputs": [
    {
     "data": {
      "text/html": [
       "<div>\n",
       "<style scoped>\n",
       "    .dataframe tbody tr th:only-of-type {\n",
       "        vertical-align: middle;\n",
       "    }\n",
       "\n",
       "    .dataframe tbody tr th {\n",
       "        vertical-align: top;\n",
       "    }\n",
       "\n",
       "    .dataframe thead th {\n",
       "        text-align: right;\n",
       "    }\n",
       "</style>\n",
       "<table border=\"1\" class=\"dataframe\">\n",
       "  <thead>\n",
       "    <tr style=\"text-align: right;\">\n",
       "      <th></th>\n",
       "      <th>model</th>\n",
       "      <th>year</th>\n",
       "      <th>km</th>\n",
       "      <th>litr</th>\n",
       "      <th>hp</th>\n",
       "      <th>price</th>\n",
       "    </tr>\n",
       "  </thead>\n",
       "  <tbody>\n",
       "    <tr>\n",
       "      <th>0</th>\n",
       "      <td>LADA (VAZ) 2112</td>\n",
       "      <td>2003</td>\n",
       "      <td>227000</td>\n",
       "      <td>1.5</td>\n",
       "      <td>72</td>\n",
       "      <td>80000</td>\n",
       "    </tr>\n",
       "    <tr>\n",
       "      <th>1</th>\n",
       "      <td>LADA (VAZ) 2102</td>\n",
       "      <td>1985</td>\n",
       "      <td>227000</td>\n",
       "      <td>1.2</td>\n",
       "      <td>64</td>\n",
       "      <td>80000</td>\n",
       "    </tr>\n",
       "    <tr>\n",
       "      <th>2</th>\n",
       "      <td>LADA (VAZ) 2108</td>\n",
       "      <td>2001</td>\n",
       "      <td>102000</td>\n",
       "      <td>1.3</td>\n",
       "      <td>135</td>\n",
       "      <td>80000</td>\n",
       "    </tr>\n",
       "    <tr>\n",
       "      <th>3</th>\n",
       "      <td>LADA (VAZ) 2105</td>\n",
       "      <td>2000</td>\n",
       "      <td>102000</td>\n",
       "      <td>1.5</td>\n",
       "      <td>75</td>\n",
       "      <td>70000</td>\n",
       "    </tr>\n",
       "    <tr>\n",
       "      <th>4</th>\n",
       "      <td>LADA (VAZ) 2112</td>\n",
       "      <td>2004</td>\n",
       "      <td>280000</td>\n",
       "      <td>1.8</td>\n",
       "      <td>98</td>\n",
       "      <td>110000</td>\n",
       "    </tr>\n",
       "  </tbody>\n",
       "</table>\n",
       "</div>"
      ],
      "text/plain": [
       "             model  year      km litr   hp   price\n",
       "0  LADA (VAZ) 2112  2003  227000  1.5   72   80000\n",
       "1  LADA (VAZ) 2102  1985  227000  1.2   64   80000\n",
       "2  LADA (VAZ) 2108  2001  102000  1.3  135   80000\n",
       "3  LADA (VAZ) 2105  2000  102000  1.5   75   70000\n",
       "4  LADA (VAZ) 2112  2004  280000  1.8   98  110000"
      ]
     },
     "execution_count": 601,
     "metadata": {},
     "output_type": "execute_result"
    }
   ],
   "source": [
    "df.head()"
   ]
  },
  {
   "cell_type": "markdown",
   "id": "6821e275",
   "metadata": {},
   "source": [
    "### Все круто, кроме одного момента в данных некоторых колонок затесались артефакты вроде '166000ProverennyidilerAvtoGERMESAvtosprobegomIaroslavskoesh'"
   ]
  },
  {
   "cell_type": "markdown",
   "id": "2bb537e7",
   "metadata": {},
   "source": [
    "### Нужно от них избавиться чтобы привести данные к верному типу данных"
   ]
  },
  {
   "cell_type": "code",
   "execution_count": 619,
   "id": "beb165ed",
   "metadata": {
    "scrolled": true
   },
   "outputs": [
    {
     "data": {
      "text/plain": [
       "model            object\n",
       "year     datetime64[ns]\n",
       "km                int64\n",
       "litr            float64\n",
       "hp                int64\n",
       "price             int64\n",
       "dtype: object"
      ]
     },
     "execution_count": 619,
     "metadata": {},
     "output_type": "execute_result"
    }
   ],
   "source": [
    "df.dtypes"
   ]
  },
  {
   "cell_type": "markdown",
   "id": "f0ec3c98",
   "metadata": {},
   "source": [
    "### Объективно, если пробег у машины больше, чем миллион, то стоит задуматься над верностью данных, так что отсеиваем все данные где символов больше 7"
   ]
  },
  {
   "cell_type": "code",
   "execution_count": 609,
   "id": "48f4ae3b",
   "metadata": {
    "scrolled": true
   },
   "outputs": [
    {
     "ename": "TypeError",
     "evalue": "object of type 'int' has no len()",
     "output_type": "error",
     "traceback": [
      "\u001b[0;31m---------------------------------------------------------------------------\u001b[0m",
      "\u001b[0;31mTypeError\u001b[0m                                 Traceback (most recent call last)",
      "\u001b[0;32m/var/folders/pc/vp2cqjv54nq8l3y4k39ssw6h0000gn/T/ipykernel_12645/2931572840.py\u001b[0m in \u001b[0;36m<module>\u001b[0;34m\u001b[0m\n\u001b[1;32m      1\u001b[0m \u001b[0;32mfor\u001b[0m \u001b[0mi\u001b[0m \u001b[0;32min\u001b[0m \u001b[0mdf\u001b[0m\u001b[0;34m.\u001b[0m\u001b[0mkm\u001b[0m\u001b[0;34m:\u001b[0m\u001b[0;34m\u001b[0m\u001b[0;34m\u001b[0m\u001b[0m\n\u001b[0;32m----> 2\u001b[0;31m     \u001b[0;32mif\u001b[0m \u001b[0mlen\u001b[0m\u001b[0;34m(\u001b[0m\u001b[0mi\u001b[0m\u001b[0;34m)\u001b[0m \u001b[0;34m>\u001b[0m \u001b[0;36m7\u001b[0m\u001b[0;34m:\u001b[0m\u001b[0;34m\u001b[0m\u001b[0;34m\u001b[0m\u001b[0m\n\u001b[0m\u001b[1;32m      3\u001b[0m         \u001b[0mdf\u001b[0m \u001b[0;34m=\u001b[0m \u001b[0mdf\u001b[0m\u001b[0;34m.\u001b[0m\u001b[0mloc\u001b[0m\u001b[0;34m[\u001b[0m\u001b[0;34m~\u001b[0m\u001b[0mdf\u001b[0m\u001b[0;34m[\u001b[0m\u001b[0;34m'km'\u001b[0m\u001b[0;34m]\u001b[0m\u001b[0;34m.\u001b[0m\u001b[0misin\u001b[0m\u001b[0;34m(\u001b[0m\u001b[0;34m[\u001b[0m\u001b[0;34mf\"{i}\"\u001b[0m\u001b[0;34m]\u001b[0m\u001b[0;34m)\u001b[0m\u001b[0;34m]\u001b[0m\u001b[0;34m\u001b[0m\u001b[0;34m\u001b[0m\u001b[0m\n",
      "\u001b[0;31mTypeError\u001b[0m: object of type 'int' has no len()"
     ]
    }
   ],
   "source": [
    "for i in df.km:\n",
    "    if len(i) > 7:\n",
    "        df = df.loc[~df['km'].isin([f\"{i}\"])]"
   ]
  },
  {
   "cell_type": "markdown",
   "id": "0506f080",
   "metadata": {},
   "source": [
    "### С ценой все еще проще, тк я указал максимальнйы прайс в 100 000, но поленился и оставил так же 7 символов"
   ]
  },
  {
   "cell_type": "code",
   "execution_count": 613,
   "id": "106bfc6e",
   "metadata": {},
   "outputs": [],
   "source": [
    "for i in df.price:\n",
    "    if len(i) > 7:\n",
    "        df = df.loc[~df['price'].isin([f\"{i}\"])]"
   ]
  },
  {
   "cell_type": "markdown",
   "id": "95abad8d",
   "metadata": {},
   "source": [
    "### Ну все, приводим к нужному типу данных"
   ]
  },
  {
   "cell_type": "code",
   "execution_count": 607,
   "id": "208ff54f",
   "metadata": {
    "scrolled": true
   },
   "outputs": [],
   "source": [
    "df.km = df.km.astype(int)"
   ]
  },
  {
   "cell_type": "code",
   "execution_count": 610,
   "id": "96764ee8",
   "metadata": {},
   "outputs": [],
   "source": [
    "df.litr = df.litr.astype(float)"
   ]
  },
  {
   "cell_type": "code",
   "execution_count": 611,
   "id": "4173d1ff",
   "metadata": {},
   "outputs": [],
   "source": [
    "df.hp = df.hp.astype(int)"
   ]
  },
  {
   "cell_type": "code",
   "execution_count": 614,
   "id": "3cb4167b",
   "metadata": {},
   "outputs": [],
   "source": [
    "df.price = df.price.astype(int)"
   ]
  },
  {
   "cell_type": "code",
   "execution_count": 615,
   "id": "1ff5fe79",
   "metadata": {},
   "outputs": [],
   "source": [
    "df.year = pd.to_datetime(df.year, format='%Y')"
   ]
  },
  {
   "cell_type": "code",
   "execution_count": 616,
   "id": "58c9b818",
   "metadata": {
    "scrolled": true
   },
   "outputs": [
    {
     "data": {
      "text/html": [
       "<div>\n",
       "<style scoped>\n",
       "    .dataframe tbody tr th:only-of-type {\n",
       "        vertical-align: middle;\n",
       "    }\n",
       "\n",
       "    .dataframe tbody tr th {\n",
       "        vertical-align: top;\n",
       "    }\n",
       "\n",
       "    .dataframe thead th {\n",
       "        text-align: right;\n",
       "    }\n",
       "</style>\n",
       "<table border=\"1\" class=\"dataframe\">\n",
       "  <thead>\n",
       "    <tr style=\"text-align: right;\">\n",
       "      <th></th>\n",
       "      <th>model</th>\n",
       "      <th>year</th>\n",
       "      <th>km</th>\n",
       "      <th>litr</th>\n",
       "      <th>hp</th>\n",
       "      <th>price</th>\n",
       "    </tr>\n",
       "  </thead>\n",
       "  <tbody>\n",
       "    <tr>\n",
       "      <th>0</th>\n",
       "      <td>LADA (VAZ) 2112</td>\n",
       "      <td>2003-01-01</td>\n",
       "      <td>227000</td>\n",
       "      <td>1.5</td>\n",
       "      <td>72</td>\n",
       "      <td>80000</td>\n",
       "    </tr>\n",
       "    <tr>\n",
       "      <th>1</th>\n",
       "      <td>LADA (VAZ) 2102</td>\n",
       "      <td>1985-01-01</td>\n",
       "      <td>227000</td>\n",
       "      <td>1.2</td>\n",
       "      <td>64</td>\n",
       "      <td>80000</td>\n",
       "    </tr>\n",
       "    <tr>\n",
       "      <th>2</th>\n",
       "      <td>LADA (VAZ) 2108</td>\n",
       "      <td>2001-01-01</td>\n",
       "      <td>102000</td>\n",
       "      <td>1.3</td>\n",
       "      <td>135</td>\n",
       "      <td>80000</td>\n",
       "    </tr>\n",
       "    <tr>\n",
       "      <th>3</th>\n",
       "      <td>LADA (VAZ) 2105</td>\n",
       "      <td>2000-01-01</td>\n",
       "      <td>102000</td>\n",
       "      <td>1.5</td>\n",
       "      <td>75</td>\n",
       "      <td>70000</td>\n",
       "    </tr>\n",
       "    <tr>\n",
       "      <th>4</th>\n",
       "      <td>LADA (VAZ) 2112</td>\n",
       "      <td>2004-01-01</td>\n",
       "      <td>280000</td>\n",
       "      <td>1.8</td>\n",
       "      <td>98</td>\n",
       "      <td>110000</td>\n",
       "    </tr>\n",
       "  </tbody>\n",
       "</table>\n",
       "</div>"
      ],
      "text/plain": [
       "             model       year      km  litr   hp   price\n",
       "0  LADA (VAZ) 2112 2003-01-01  227000   1.5   72   80000\n",
       "1  LADA (VAZ) 2102 1985-01-01  227000   1.2   64   80000\n",
       "2  LADA (VAZ) 2108 2001-01-01  102000   1.3  135   80000\n",
       "3  LADA (VAZ) 2105 2000-01-01  102000   1.5   75   70000\n",
       "4  LADA (VAZ) 2112 2004-01-01  280000   1.8   98  110000"
      ]
     },
     "execution_count": 616,
     "metadata": {},
     "output_type": "execute_result"
    }
   ],
   "source": [
    "df.head()"
   ]
  },
  {
   "cell_type": "code",
   "execution_count": 618,
   "id": "93d38556",
   "metadata": {},
   "outputs": [
    {
     "data": {
      "text/plain": [
       "(1126, 6)"
      ]
     },
     "execution_count": 618,
     "metadata": {},
     "output_type": "execute_result"
    }
   ],
   "source": [
    "df.shape"
   ]
  },
  {
   "cell_type": "markdown",
   "id": "d291f7c2",
   "metadata": {},
   "source": [
    "П"
   ]
  }
 ],
 "metadata": {
  "kernelspec": {
   "display_name": "Python 3 (ipykernel)",
   "language": "python",
   "name": "python3"
  },
  "language_info": {
   "codemirror_mode": {
    "name": "ipython",
    "version": 3
   },
   "file_extension": ".py",
   "mimetype": "text/x-python",
   "name": "python",
   "nbconvert_exporter": "python",
   "pygments_lexer": "ipython3",
   "version": "3.9.7"
  }
 },
 "nbformat": 4,
 "nbformat_minor": 5
}
